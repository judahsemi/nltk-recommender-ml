{
 "cells": [
  {
   "cell_type": "markdown",
   "metadata": {},
   "source": [
    "## Import libraries"
   ]
  },
  {
   "cell_type": "code",
   "execution_count": 1,
   "metadata": {},
   "outputs": [],
   "source": [
    "import os\n",
    "from importlib import reload\n",
    "from collections import Counter"
   ]
  },
  {
   "cell_type": "code",
   "execution_count": 2,
   "metadata": {},
   "outputs": [],
   "source": [
    "import nltk\n",
    "import numpy as np\n",
    "import pandas as pd"
   ]
  },
  {
   "cell_type": "code",
   "execution_count": 3,
   "metadata": {},
   "outputs": [],
   "source": [
    "from nltk.wsd import lesk\n",
    "from nltk.stem import PorterStemmer\n",
    "from nltk.corpus import stopwords as sw\n",
    "from nltk.corpus import wordnet as wn\n",
    "from nltk.corpus import sentiwordnet as swn"
   ]
  },
  {
   "cell_type": "code",
   "execution_count": 4,
   "metadata": {},
   "outputs": [],
   "source": [
    "from utils import helper"
   ]
  },
  {
   "cell_type": "code",
   "execution_count": null,
   "metadata": {},
   "outputs": [],
   "source": []
  },
  {
   "cell_type": "markdown",
   "metadata": {},
   "source": [
    "## Load necessary NLTK documents"
   ]
  },
  {
   "cell_type": "code",
   "execution_count": 5,
   "metadata": {},
   "outputs": [],
   "source": [
    "### Comment out to download them if you don't have them\n",
    "# nltk.download(\"punkt\")\n",
    "# nltk.download(\"averaged_perceptron_tagger\")\n",
    "# nltk.download(\"stopwords\")\n",
    "# nltk.download(\"wordnet\")\n",
    "# nltk.download(\"sentiwordnet\")\n",
    "\n",
    "### If you already have them append their path here\n",
    "nltk.data.path.append(os.path.abspath(\"./data/nltk/\"))\n",
    "\n",
    "ps = PorterStemmer()\n",
    "wn_lemmatizer = nltk.WordNetLemmatizer()\n",
    "tag_to_pos = {\"J\": wn.ADJ, \"V\": wn.VERB, \"N\": wn.NOUN, \"R\": wn.ADV}"
   ]
  },
  {
   "cell_type": "code",
   "execution_count": null,
   "metadata": {},
   "outputs": [],
   "source": []
  },
  {
   "cell_type": "markdown",
   "metadata": {},
   "source": [
    "**User comments / reviews**"
   ]
  },
  {
   "cell_type": "code",
   "execution_count": 6,
   "metadata": {},
   "outputs": [
    {
     "name": "stdout",
     "output_type": "stream",
     "text": [
      "Number of user comments/reviews:  4\n"
     ]
    }
   ],
   "source": [
    "# Example user past comments and reviews\n",
    "user_comments = [\n",
    "    \"My travel to the Festival was the best trip ever, the music was great.\",\n",
    "    \"I am never travelling to that Restaurant again, the food was awful and looked really bad.\",\n",
    "    \"My tour round that Country was neither great not bad and the traffic was terrible.\",\n",
    "    \"I expected more from my trip to the Museum but the art on display was boring.\"\n",
    "]\n",
    " \n",
    "print(\"Number of user comments/reviews: \", len(user_comments))"
   ]
  },
  {
   "cell_type": "markdown",
   "metadata": {},
   "source": [
    "**Tourist attractions reviews**"
   ]
  },
  {
   "cell_type": "code",
   "execution_count": 7,
   "metadata": {},
   "outputs": [
    {
     "name": "stdout",
     "output_type": "stream",
     "text": [
      "Number of tourist sites:  3\n"
     ]
    }
   ],
   "source": [
    "# Example tourist site past comments and reviews\n",
    "sites_reviews = {\n",
    "\"site_a\": [\n",
    "    \"My travel to the Festival was the best trip ever, the music was great.\",\n",
    "    \"The music, food, art, was amazing.\"\n",
    "],\n",
    "\"site_b\": [\n",
    "    \"I am never travelling to that Restaurant again, the food was awful and looked really bad.\",\n",
    "    \"A waste of money and time, never coming back here.\"\n",
    "],\n",
    "\"site_c\":  [\n",
    "    \"My tour round that Country was neither great not bad and the traffic was terrible.\",\n",
    "    \"I expected more from my trip to the Museum but the art on display were boring.\",\n",
    "    \"Not sure if I want to come back here, neither the art not the journey was memorable\"\n",
    "]}\n",
    " \n",
    "print(\"Number of tourist sites: \", len(sites_reviews))"
   ]
  },
  {
   "cell_type": "markdown",
   "metadata": {},
   "source": [
    "**Make recommendations**"
   ]
  },
  {
   "cell_type": "code",
   "execution_count": 8,
   "metadata": {
    "scrolled": true
   },
   "outputs": [
    {
     "name": "stdout",
     "output_type": "stream",
     "text": [
      "EXTRACTED NOUNS:\n",
      "=====\n",
      "\n",
      " [[Synset('travel.n.01'), Synset('festival.n.02'), Synset('trip.n.01'), Synset('music.n.04')], [Synset('restaurant.n.01'), Synset('food.n.01')], [Synset('tour.n.01'), Synset('round.n.11'), Synset('nation.n.02'), Synset('traffic.n.01')], [Synset('trip.n.07'), Synset('museum.n.01'), Synset('art.n.01'), Synset('display.n.02')]]\n",
      "\n",
      "CLUSTERS:\n",
      "=====\n",
      "\n",
      "cluster 1: count=3, [Synset('art.n.01'), Synset('museum.n.01'), Synset('restaurant.n.01')]\n",
      "cluster 2: count=6, [Synset('display.n.02'), Synset('festival.n.02'), Synset('tour.n.01'), Synset('travel.n.01'), Synset('trip.n.01'), Synset('trip.n.07')]\n",
      "cluster 3: count=1, [Synset('food.n.01')]\n",
      "cluster 4: count=1, [Synset('music.n.04')]\n",
      "cluster 5: count=2, [Synset('nation.n.02'), Synset('traffic.n.01')]\n",
      "cluster 6: count=1, [Synset('round.n.11')]\n",
      "\n",
      "\n",
      "CLUSTERS SCORE:\n",
      "=====\n",
      "\n",
      "cluster: 1, score: -2.75\n",
      "cluster: 2, score: -1.5\n",
      "cluster: 3, score: -2.75\n",
      "cluster: 4, score: 0.25\n",
      "cluster: 5, score: -1.75\n",
      "cluster: 6, score: -1.75\n",
      "\n",
      "\n",
      "USER PREFERENCES:\n",
      "=====\n",
      "\n",
      " [Synset('music.n.04')]\n"
     ]
    }
   ],
   "source": [
    "user_prefs = helper.extract_user_prefs(user_comments, True, 0.5, verbose=False)"
   ]
  },
  {
   "cell_type": "code",
   "execution_count": 9,
   "metadata": {},
   "outputs": [
    {
     "name": "stdout",
     "output_type": "stream",
     "text": [
      "SITE FEATURES:\n",
      "\n",
      " {'site_a': [Synset('music.n.05'), Synset('travel.n.01'), Synset('festival.n.02'), Synset('tripper.n.04'), Synset('food.n.03')], 'site_b': [Synset('restaurant.n.01'), Synset('food.n.02'), Synset('waste.n.05'), Synset('money.n.02'), Synset('time.n.02')], 'site_c': [Synset('art.n.01'), Synset('tour.n.01'), Synset('turn.n.09'), Synset('nation.n.02'), Synset('traffic.n.03')]}\n"
     ]
    }
   ],
   "source": [
    "sites_feats = helper.extract_sites_feats(sites_reviews)"
   ]
  },
  {
   "cell_type": "code",
   "execution_count": 10,
   "metadata": {
    "scrolled": false
   },
   "outputs": [
    {
     "name": "stdout",
     "output_type": "stream",
     "text": [
      "Best score and site with the best score:\n",
      "\n",
      " 0.5 site_a\n",
      "\n",
      "\n",
      "Sites sorted by score:\n",
      "\n",
      " [('site_a', 0.5), ('site_c', 0.42105263157894735), ('site_b', 0.375)]\n"
     ]
    }
   ],
   "source": [
    "site_and_score = helper.make_recommendation(user_prefs, sites_feats)"
   ]
  },
  {
   "cell_type": "markdown",
   "metadata": {},
   "source": [
    "## The END"
   ]
  },
  {
   "cell_type": "code",
   "execution_count": null,
   "metadata": {},
   "outputs": [],
   "source": []
  }
 ],
 "metadata": {
  "kernelspec": {
   "display_name": "Python 3",
   "language": "python",
   "name": "python3"
  },
  "language_info": {
   "codemirror_mode": {
    "name": "ipython",
    "version": 3
   },
   "file_extension": ".py",
   "mimetype": "text/x-python",
   "name": "python",
   "nbconvert_exporter": "python",
   "pygments_lexer": "ipython3",
   "version": "3.7.6"
  }
 },
 "nbformat": 4,
 "nbformat_minor": 4
}
